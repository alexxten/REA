{
  "nbformat": 4,
  "nbformat_minor": 0,
  "metadata": {
    "colab": {
      "name": "linear_regression_model.ipynb",
      "provenance": [],
      "collapsed_sections": []
    },
    "kernelspec": {
      "name": "python3",
      "display_name": "Python 3"
    }
  },
  "cells": [
    {
      "cell_type": "markdown",
      "metadata": {
        "id": "XfillTUQ3qJE",
        "colab_type": "text"
      },
      "source": [
        "# Линейная регрессия: \n",
        "# Зависимость цены от переменных \"общая площадь\", \"жилая площадь\", \"площадь кухни\""
      ]
    },
    {
      "cell_type": "code",
      "metadata": {
        "id": "tFnfCr6-3orI",
        "colab_type": "code",
        "colab": {}
      },
      "source": [
        "import numpy as np\n",
        "import pandas as pd\n",
        "import matplotlib.pyplot as plt\n",
        "%matplotlib inline\n",
        "\n",
        "\n",
        "from sklearn.linear_model import LinearRegression\n",
        "from sklearn.metrics import mean_absolute_error, r2_score\n",
        "from sklearn.model_selection import train_test_split"
      ],
      "execution_count": 0,
      "outputs": []
    },
    {
      "cell_type": "code",
      "metadata": {
        "id": "hfx_U3qn1c_6",
        "colab_type": "code",
        "colab": {
          "base_uri": "https://localhost:8080/",
          "height": 204
        },
        "outputId": "961dc211-8c6a-45d4-cc0a-ba765b09a43b"
      },
      "source": [
        "df = pd.read_csv('/content/nedvig_1room_data.csv', delimiter=';')\n",
        "df.head()"
      ],
      "execution_count": 27,
      "outputs": [
        {
          "output_type": "execute_result",
          "data": {
            "text/html": [
              "<div>\n",
              "<style scoped>\n",
              "    .dataframe tbody tr th:only-of-type {\n",
              "        vertical-align: middle;\n",
              "    }\n",
              "\n",
              "    .dataframe tbody tr th {\n",
              "        vertical-align: top;\n",
              "    }\n",
              "\n",
              "    .dataframe thead th {\n",
              "        text-align: right;\n",
              "    }\n",
              "</style>\n",
              "<table border=\"1\" class=\"dataframe\">\n",
              "  <thead>\n",
              "    <tr style=\"text-align: right;\">\n",
              "      <th></th>\n",
              "      <th>Square</th>\n",
              "      <th>Square_living</th>\n",
              "      <th>Square_kitchen</th>\n",
              "      <th>Price</th>\n",
              "    </tr>\n",
              "  </thead>\n",
              "  <tbody>\n",
              "    <tr>\n",
              "      <th>0</th>\n",
              "      <td>40.0</td>\n",
              "      <td>20.0</td>\n",
              "      <td>10.0</td>\n",
              "      <td>1596.0</td>\n",
              "    </tr>\n",
              "    <tr>\n",
              "      <th>1</th>\n",
              "      <td>37.0</td>\n",
              "      <td>17.0</td>\n",
              "      <td>8.0</td>\n",
              "      <td>1344.0</td>\n",
              "    </tr>\n",
              "    <tr>\n",
              "      <th>2</th>\n",
              "      <td>38.0</td>\n",
              "      <td>18.0</td>\n",
              "      <td>9.0</td>\n",
              "      <td>1148.0</td>\n",
              "    </tr>\n",
              "    <tr>\n",
              "      <th>3</th>\n",
              "      <td>27.0</td>\n",
              "      <td>14.0</td>\n",
              "      <td>6.0</td>\n",
              "      <td>686.0</td>\n",
              "    </tr>\n",
              "    <tr>\n",
              "      <th>4</th>\n",
              "      <td>30.0</td>\n",
              "      <td>17.0</td>\n",
              "      <td>6.0</td>\n",
              "      <td>1008.0</td>\n",
              "    </tr>\n",
              "  </tbody>\n",
              "</table>\n",
              "</div>"
            ],
            "text/plain": [
              "   Square  Square_living  Square_kitchen   Price\n",
              "0    40.0           20.0            10.0  1596.0\n",
              "1    37.0           17.0             8.0  1344.0\n",
              "2    38.0           18.0             9.0  1148.0\n",
              "3    27.0           14.0             6.0   686.0\n",
              "4    30.0           17.0             6.0  1008.0"
            ]
          },
          "metadata": {
            "tags": []
          },
          "execution_count": 27
        }
      ]
    },
    {
      "cell_type": "code",
      "metadata": {
        "id": "5BEFTXMK8JwE",
        "colab_type": "code",
        "colab": {
          "base_uri": "https://localhost:8080/",
          "height": 297
        },
        "outputId": "a40328f5-988f-48cc-b25b-2c9a7b4dd570"
      },
      "source": [
        "df.describe()"
      ],
      "execution_count": 144,
      "outputs": [
        {
          "output_type": "execute_result",
          "data": {
            "text/html": [
              "<div>\n",
              "<style scoped>\n",
              "    .dataframe tbody tr th:only-of-type {\n",
              "        vertical-align: middle;\n",
              "    }\n",
              "\n",
              "    .dataframe tbody tr th {\n",
              "        vertical-align: top;\n",
              "    }\n",
              "\n",
              "    .dataframe thead th {\n",
              "        text-align: right;\n",
              "    }\n",
              "</style>\n",
              "<table border=\"1\" class=\"dataframe\">\n",
              "  <thead>\n",
              "    <tr style=\"text-align: right;\">\n",
              "      <th></th>\n",
              "      <th>Square</th>\n",
              "      <th>Square_living</th>\n",
              "      <th>Square_kitchen</th>\n",
              "      <th>Price</th>\n",
              "    </tr>\n",
              "  </thead>\n",
              "  <tbody>\n",
              "    <tr>\n",
              "      <th>count</th>\n",
              "      <td>355.000000</td>\n",
              "      <td>355.000000</td>\n",
              "      <td>355.000000</td>\n",
              "      <td>355.000000</td>\n",
              "    </tr>\n",
              "    <tr>\n",
              "      <th>mean</th>\n",
              "      <td>54.280282</td>\n",
              "      <td>31.460563</td>\n",
              "      <td>9.486197</td>\n",
              "      <td>1630.456051</td>\n",
              "    </tr>\n",
              "    <tr>\n",
              "      <th>std</th>\n",
              "      <td>17.114759</td>\n",
              "      <td>13.025500</td>\n",
              "      <td>2.878413</td>\n",
              "      <td>493.875473</td>\n",
              "    </tr>\n",
              "    <tr>\n",
              "      <th>min</th>\n",
              "      <td>23.000000</td>\n",
              "      <td>8.000000</td>\n",
              "      <td>5.000000</td>\n",
              "      <td>594.000000</td>\n",
              "    </tr>\n",
              "    <tr>\n",
              "      <th>25%</th>\n",
              "      <td>40.000000</td>\n",
              "      <td>20.000000</td>\n",
              "      <td>7.000000</td>\n",
              "      <td>1298.000000</td>\n",
              "    </tr>\n",
              "    <tr>\n",
              "      <th>50%</th>\n",
              "      <td>52.000000</td>\n",
              "      <td>30.000000</td>\n",
              "      <td>9.000000</td>\n",
              "      <td>1512.000000</td>\n",
              "    </tr>\n",
              "    <tr>\n",
              "      <th>75%</th>\n",
              "      <td>68.000000</td>\n",
              "      <td>42.000000</td>\n",
              "      <td>11.000000</td>\n",
              "      <td>1944.000000</td>\n",
              "    </tr>\n",
              "    <tr>\n",
              "      <th>max</th>\n",
              "      <td>103.000000</td>\n",
              "      <td>72.000000</td>\n",
              "      <td>19.000000</td>\n",
              "      <td>3250.800000</td>\n",
              "    </tr>\n",
              "  </tbody>\n",
              "</table>\n",
              "</div>"
            ],
            "text/plain": [
              "           Square  Square_living  Square_kitchen        Price\n",
              "count  355.000000     355.000000      355.000000   355.000000\n",
              "mean    54.280282      31.460563        9.486197  1630.456051\n",
              "std     17.114759      13.025500        2.878413   493.875473\n",
              "min     23.000000       8.000000        5.000000   594.000000\n",
              "25%     40.000000      20.000000        7.000000  1298.000000\n",
              "50%     52.000000      30.000000        9.000000  1512.000000\n",
              "75%     68.000000      42.000000       11.000000  1944.000000\n",
              "max    103.000000      72.000000       19.000000  3250.800000"
            ]
          },
          "metadata": {
            "tags": []
          },
          "execution_count": 144
        }
      ]
    },
    {
      "cell_type": "code",
      "metadata": {
        "id": "uo0qTgeczvQ2",
        "colab_type": "code",
        "colab": {}
      },
      "source": [
        "Y = df['Price']\n",
        "X = df[['Square', 'Square_living', 'Square_kitchen']]"
      ],
      "execution_count": 0,
      "outputs": []
    },
    {
      "cell_type": "code",
      "metadata": {
        "id": "ljaXK5ZF4Nkc",
        "colab_type": "code",
        "colab": {}
      },
      "source": [
        "X_train, X_test, Y_train, Y_test = train_test_split(X, Y, test_size=0.3, random_state=50)"
      ],
      "execution_count": 0,
      "outputs": []
    },
    {
      "cell_type": "code",
      "metadata": {
        "id": "ejr5Bi7JzzFh",
        "colab_type": "code",
        "colab": {
          "base_uri": "https://localhost:8080/",
          "height": 68
        },
        "outputId": "44887329-964f-4cb2-f039-0f5c25e7cedf"
      },
      "source": [
        "lin_reg = LinearRegression(fit_intercept=True, normalize=True)\n",
        "lin_reg.fit(X_train, Y_train)\n",
        "Y_pred = lin_reg.predict(X_test)\n",
        "\n",
        "print(f'Коэффициенты: {lin_reg.coef_}, {lin_reg.intercept_}')\n",
        "print(f'Средняя абсолютная ошибка: {mean_absolute_error(Y_test, Y_pred)}')\n",
        "print(f'Коэффициент детерминации: {r2_score(Y_test, Y_pred)}')\n",
        "\n",
        "S, Sl, Sk = lin_reg.coef_\n",
        "b = lin_reg.intercept_"
      ],
      "execution_count": 33,
      "outputs": [
        {
          "output_type": "stream",
          "text": [
            "Коэффициенты: [10.95289607 15.84485078 10.05297057], 446.23445509615476\n",
            "Средняя абсолютная ошибка: 206.9241606444827\n",
            "Коэффициент детерминации: 0.7156825592194714\n"
          ],
          "name": "stdout"
        }
      ]
    },
    {
      "cell_type": "markdown",
      "metadata": {
        "id": "V4yk8VeV46nq",
        "colab_type": "text"
      },
      "source": [
        "# Выражение регрессии: \n",
        "**Price = 446.235 + 10.953S + 15.845Sl + 10.053Sk**,\n",
        "\n",
        "где:\n",
        "  Price - цена\n",
        "\n",
        "  S - Общая площадь\n",
        "\n",
        "  Sl - Жилая площадь\n",
        "\n",
        "  Sk - площадь кухни\n",
        "  \n"
      ]
    },
    {
      "cell_type": "markdown",
      "metadata": {
        "id": "Sq8bCwyO4zqB",
        "colab_type": "text"
      },
      "source": [
        "# Визуализация "
      ]
    },
    {
      "cell_type": "code",
      "metadata": {
        "id": "xQLcyY-3BHY0",
        "colab_type": "code",
        "colab": {
          "base_uri": "https://localhost:8080/",
          "height": 34
        },
        "outputId": "36964e8a-6276-4a3a-ba42-b2a7a24f362b"
      },
      "source": [
        "lin_y_pred = 446.235 + 10.953*df['Square'] + 15.845*df['Square_living'] + 10.053*df['Square_kitchen']\n",
        "lin_y = df['Price'].to_numpy()\n",
        "lin_y.size"
      ],
      "execution_count": 123,
      "outputs": [
        {
          "output_type": "execute_result",
          "data": {
            "text/plain": [
              "355"
            ]
          },
          "metadata": {
            "tags": []
          },
          "execution_count": 123
        }
      ]
    },
    {
      "cell_type": "code",
      "metadata": {
        "id": "hMAfSNYxBVhp",
        "colab_type": "code",
        "colab": {
          "base_uri": "https://localhost:8080/",
          "height": 499
        },
        "outputId": "d6dc57f3-7ee6-4e1b-b6c7-d993b46c6054"
      },
      "source": [
        "col = np.empty_like(lin_y_pred)\n",
        "right_points = (abs(lin_y_pred - lin_y) < 200)    \n",
        "points = (abs(lin_y_pred - lin_y) > 200)\n",
        "\n",
        "col[right_points] = 1\n",
        "col[points] = 0\n",
        "colors = ['midnightblue' if i == 1.0 else 'cornflowerblue' for i in col]\n",
        "\n",
        "\n",
        "plt.figure(figsize=(8,8))\n",
        "scatter = plt.scatter(lin_y_pred, lin_y, c=colors, linewidth=0.1)\n",
        "plt.title('Диаграмма рассеяния')\n",
        "plt.show()"
      ],
      "execution_count": 143,
      "outputs": [
        {
          "output_type": "display_data",
          "data": {
            "image/png": "[encoded data removed]",
            "text/plain": [
              "<Figure size 576x576 with 1 Axes>"
            ]
          },
          "metadata": {
            "tags": []
          }
        }
      ]
    }
  ]
}