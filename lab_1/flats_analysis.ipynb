{
  "nbformat": 4,
  "nbformat_minor": 0,
  "metadata": {
    "colab": {
      "name": "flats_analysis.ipynb",
      "provenance": [],
      "collapsed_sections": []
    },
    "kernelspec": {
      "name": "python3",
      "display_name": "Python 3"
    }
  },
  "cells": [
    {
      "cell_type": "code",
      "metadata": {
        "id": "pXO0VI4fw4KW",
        "colab_type": "code",
        "colab": {}
      },
      "source": [
        "import pandas as pd\n",
        "import numpy as np\n",
        "import seaborn as sns\n",
        "import matplotlib.pyplot as plt\n",
        "\n",
        "%matplotlib inline"
      ],
      "execution_count": 0,
      "outputs": []
    },
    {
      "cell_type": "markdown",
      "metadata": {
        "id": "d1vumKB2kvfD",
        "colab_type": "text"
      },
      "source": [
        "# **Исходные данные**"
      ]
    },
    {
      "cell_type": "code",
      "metadata": {
        "id": "BKPB4m1GxEJv",
        "colab_type": "code",
        "outputId": "c87d919c-9013-4759-d9c7-3d6410d60d00",
        "colab": {
          "base_uri": "https://localhost:8080/",
          "height": 204
        }
      },
      "source": [
        "initial_data = pd.read_excel('/content/Nedvig.xls')\n",
        "initial_data.head()"
      ],
      "execution_count": 2,
      "outputs": [
        {
          "output_type": "execute_result",
          "data": {
            "text/html": [
              "<div>\n",
              "<style scoped>\n",
              "    .dataframe tbody tr th:only-of-type {\n",
              "        vertical-align: middle;\n",
              "    }\n",
              "\n",
              "    .dataframe tbody tr th {\n",
              "        vertical-align: top;\n",
              "    }\n",
              "\n",
              "    .dataframe thead th {\n",
              "        text-align: right;\n",
              "    }\n",
              "</style>\n",
              "<table border=\"1\" class=\"dataframe\">\n",
              "  <thead>\n",
              "    <tr style=\"text-align: right;\">\n",
              "      <th></th>\n",
              "      <th>Номер</th>\n",
              "      <th>Район</th>\n",
              "      <th>Число комнат</th>\n",
              "      <th>Тип дома</th>\n",
              "      <th>Индикаторная переменная</th>\n",
              "      <th>Общая</th>\n",
              "      <th>Жилая</th>\n",
              "      <th>Кухня</th>\n",
              "      <th>Цена, тыс. руб.</th>\n",
              "    </tr>\n",
              "  </thead>\n",
              "  <tbody>\n",
              "    <tr>\n",
              "      <th>0</th>\n",
              "      <td>1</td>\n",
              "      <td>ЮМР</td>\n",
              "      <td>1</td>\n",
              "      <td>блочный</td>\n",
              "      <td>0</td>\n",
              "      <td>40.0</td>\n",
              "      <td>20.0</td>\n",
              "      <td>10.0</td>\n",
              "      <td>1596.0</td>\n",
              "    </tr>\n",
              "    <tr>\n",
              "      <th>1</th>\n",
              "      <td>2</td>\n",
              "      <td>ЮМР</td>\n",
              "      <td>2</td>\n",
              "      <td>блочный</td>\n",
              "      <td>0</td>\n",
              "      <td>60.0</td>\n",
              "      <td>32.0</td>\n",
              "      <td>10.0</td>\n",
              "      <td>1876.0</td>\n",
              "    </tr>\n",
              "    <tr>\n",
              "      <th>2</th>\n",
              "      <td>3</td>\n",
              "      <td>ЮМР</td>\n",
              "      <td>2</td>\n",
              "      <td>блочный</td>\n",
              "      <td>0</td>\n",
              "      <td>77.0</td>\n",
              "      <td>40.0</td>\n",
              "      <td>16.0</td>\n",
              "      <td>3500.0</td>\n",
              "    </tr>\n",
              "    <tr>\n",
              "      <th>3</th>\n",
              "      <td>4</td>\n",
              "      <td>ЮМР</td>\n",
              "      <td>3</td>\n",
              "      <td>блочный</td>\n",
              "      <td>0</td>\n",
              "      <td>66.0</td>\n",
              "      <td>42.0</td>\n",
              "      <td>9.0</td>\n",
              "      <td>2074.8</td>\n",
              "    </tr>\n",
              "    <tr>\n",
              "      <th>4</th>\n",
              "      <td>5</td>\n",
              "      <td>ЮМР</td>\n",
              "      <td>3</td>\n",
              "      <td>блочный</td>\n",
              "      <td>0</td>\n",
              "      <td>70.0</td>\n",
              "      <td>44.0</td>\n",
              "      <td>10.0</td>\n",
              "      <td>2156.0</td>\n",
              "    </tr>\n",
              "  </tbody>\n",
              "</table>\n",
              "</div>"
            ],
            "text/plain": [
              "   Номер Район  Число комнат Тип дома  ...  Общая  Жилая  Кухня  Цена, тыс. руб.\n",
              "0      1   ЮМР             1  блочный  ...   40.0   20.0   10.0           1596.0\n",
              "1      2   ЮМР             2  блочный  ...   60.0   32.0   10.0           1876.0\n",
              "2      3   ЮМР             2  блочный  ...   77.0   40.0   16.0           3500.0\n",
              "3      4   ЮМР             3  блочный  ...   66.0   42.0    9.0           2074.8\n",
              "4      5   ЮМР             3  блочный  ...   70.0   44.0   10.0           2156.0\n",
              "\n",
              "[5 rows x 9 columns]"
            ]
          },
          "metadata": {
            "tags": []
          },
          "execution_count": 2
        }
      ]
    },
    {
      "cell_type": "code",
      "metadata": {
        "id": "9NYcIFwNxOVv",
        "colab_type": "code",
        "colab": {}
      },
      "source": [
        "# Вырезаем первую колонку \"Номер\", тк она неинформативна\n",
        "initial_data = initial_data.iloc[:, 1:]\n",
        "\n",
        "# Для удобства переименовываем признаки на англ\n",
        "initial_data.columns = [\n",
        "                        'Area', \n",
        "                        'Rooms_num', \n",
        "                        'Building_type', \n",
        "                        'Indicator',\n",
        "                        'Square',\n",
        "                        'Square_living',\n",
        "                        'Square_kitchen',\n",
        "                        'Price',\n",
        "                        ]"
      ],
      "execution_count": 0,
      "outputs": []
    },
    {
      "cell_type": "code",
      "metadata": {
        "id": "pQBhFM9nxQQq",
        "colab_type": "code",
        "outputId": "2cbc7018-bd87-4dcb-8724-93a1dbea049d",
        "colab": {
          "base_uri": "https://localhost:8080/",
          "height": 187
        }
      },
      "source": [
        "print(initial_data.shape)\n",
        "print(initial_data.dtypes)"
      ],
      "execution_count": 4,
      "outputs": [
        {
          "output_type": "stream",
          "text": [
            "(1573, 8)\n",
            "Area               object\n",
            "Rooms_num           int64\n",
            "Building_type      object\n",
            "Indicator           int64\n",
            "Square            float64\n",
            "Square_living     float64\n",
            "Square_kitchen    float64\n",
            "Price             float64\n",
            "dtype: object\n"
          ],
          "name": "stdout"
        }
      ]
    },
    {
      "cell_type": "code",
      "metadata": {
        "id": "BuGz33O1yMyR",
        "colab_type": "code",
        "outputId": "11217f6e-cd9d-435e-cb71-4605824d8cfb",
        "colab": {
          "base_uri": "https://localhost:8080/",
          "height": 297
        }
      },
      "source": [
        "initial_data.describe()"
      ],
      "execution_count": 5,
      "outputs": [
        {
          "output_type": "execute_result",
          "data": {
            "text/html": [
              "<div>\n",
              "<style scoped>\n",
              "    .dataframe tbody tr th:only-of-type {\n",
              "        vertical-align: middle;\n",
              "    }\n",
              "\n",
              "    .dataframe tbody tr th {\n",
              "        vertical-align: top;\n",
              "    }\n",
              "\n",
              "    .dataframe thead th {\n",
              "        text-align: right;\n",
              "    }\n",
              "</style>\n",
              "<table border=\"1\" class=\"dataframe\">\n",
              "  <thead>\n",
              "    <tr style=\"text-align: right;\">\n",
              "      <th></th>\n",
              "      <th>Rooms_num</th>\n",
              "      <th>Indicator</th>\n",
              "      <th>Square</th>\n",
              "      <th>Square_living</th>\n",
              "      <th>Square_kitchen</th>\n",
              "      <th>Price</th>\n",
              "    </tr>\n",
              "  </thead>\n",
              "  <tbody>\n",
              "    <tr>\n",
              "      <th>count</th>\n",
              "      <td>1573.000000</td>\n",
              "      <td>1573.000000</td>\n",
              "      <td>1573.000000</td>\n",
              "      <td>1569.000000</td>\n",
              "      <td>1567.000000</td>\n",
              "      <td>1573.000000</td>\n",
              "    </tr>\n",
              "    <tr>\n",
              "      <th>mean</th>\n",
              "      <td>2.364272</td>\n",
              "      <td>0.335029</td>\n",
              "      <td>62.814533</td>\n",
              "      <td>37.211026</td>\n",
              "      <td>10.187747</td>\n",
              "      <td>2075.020919</td>\n",
              "    </tr>\n",
              "    <tr>\n",
              "      <th>std</th>\n",
              "      <td>1.058190</td>\n",
              "      <td>0.472151</td>\n",
              "      <td>25.827560</td>\n",
              "      <td>16.908300</td>\n",
              "      <td>4.176530</td>\n",
              "      <td>1369.953515</td>\n",
              "    </tr>\n",
              "    <tr>\n",
              "      <th>min</th>\n",
              "      <td>1.000000</td>\n",
              "      <td>0.000000</td>\n",
              "      <td>11.000000</td>\n",
              "      <td>8.000000</td>\n",
              "      <td>0.000000</td>\n",
              "      <td>270.000000</td>\n",
              "    </tr>\n",
              "    <tr>\n",
              "      <th>25%</th>\n",
              "      <td>2.000000</td>\n",
              "      <td>0.000000</td>\n",
              "      <td>44.000000</td>\n",
              "      <td>24.000000</td>\n",
              "      <td>7.000000</td>\n",
              "      <td>1449.900000</td>\n",
              "    </tr>\n",
              "    <tr>\n",
              "      <th>50%</th>\n",
              "      <td>2.000000</td>\n",
              "      <td>0.000000</td>\n",
              "      <td>60.000000</td>\n",
              "      <td>34.000000</td>\n",
              "      <td>9.000000</td>\n",
              "      <td>1817.100000</td>\n",
              "    </tr>\n",
              "    <tr>\n",
              "      <th>75%</th>\n",
              "      <td>3.000000</td>\n",
              "      <td>1.000000</td>\n",
              "      <td>74.000000</td>\n",
              "      <td>45.000000</td>\n",
              "      <td>12.000000</td>\n",
              "      <td>2397.600000</td>\n",
              "    </tr>\n",
              "    <tr>\n",
              "      <th>max</th>\n",
              "      <td>7.000000</td>\n",
              "      <td>1.000000</td>\n",
              "      <td>226.000000</td>\n",
              "      <td>120.000000</td>\n",
              "      <td>44.000000</td>\n",
              "      <td>41706.898000</td>\n",
              "    </tr>\n",
              "  </tbody>\n",
              "</table>\n",
              "</div>"
            ],
            "text/plain": [
              "         Rooms_num    Indicator  ...  Square_kitchen         Price\n",
              "count  1573.000000  1573.000000  ...     1567.000000   1573.000000\n",
              "mean      2.364272     0.335029  ...       10.187747   2075.020919\n",
              "std       1.058190     0.472151  ...        4.176530   1369.953515\n",
              "min       1.000000     0.000000  ...        0.000000    270.000000\n",
              "25%       2.000000     0.000000  ...        7.000000   1449.900000\n",
              "50%       2.000000     0.000000  ...        9.000000   1817.100000\n",
              "75%       3.000000     1.000000  ...       12.000000   2397.600000\n",
              "max       7.000000     1.000000  ...       44.000000  41706.898000\n",
              "\n",
              "[8 rows x 6 columns]"
            ]
          },
          "metadata": {
            "tags": []
          },
          "execution_count": 5
        }
      ]
    },
    {
      "cell_type": "code",
      "metadata": {
        "id": "M2MF0BgLzvt5",
        "colab_type": "code",
        "outputId": "8eeb39f0-9953-43a2-ff7e-c750eae1d215",
        "colab": {
          "base_uri": "https://localhost:8080/",
          "height": 170
        }
      },
      "source": [
        "initial_data.isna().sum()"
      ],
      "execution_count": 6,
      "outputs": [
        {
          "output_type": "execute_result",
          "data": {
            "text/plain": [
              "Area                0\n",
              "Rooms_num           0\n",
              "Building_type     159\n",
              "Indicator           0\n",
              "Square              0\n",
              "Square_living       4\n",
              "Square_kitchen      6\n",
              "Price               0\n",
              "dtype: int64"
            ]
          },
          "metadata": {
            "tags": []
          },
          "execution_count": 6
        }
      ]
    },
    {
      "cell_type": "markdown",
      "metadata": {
        "id": "veSBdljm02Yt",
        "colab_type": "text"
      },
      "source": [
        "# **Анализ на основе непрерывных признаков**"
      ]
    },
    {
      "cell_type": "code",
      "metadata": {
        "id": "j1DeKZ9D4ZZU",
        "colab_type": "code",
        "outputId": "f58a0f65-dfd6-4a6c-fa5e-1157ea3d95d0",
        "colab": {
          "base_uri": "https://localhost:8080/",
          "height": 204
        }
      },
      "source": [
        "data = initial_data.copy()\n",
        "data = data[['Rooms_num', 'Square', 'Square_living', 'Square_kitchen', 'Price']]\n",
        "data.head()"
      ],
      "execution_count": 7,
      "outputs": [
        {
          "output_type": "execute_result",
          "data": {
            "text/html": [
              "<div>\n",
              "<style scoped>\n",
              "    .dataframe tbody tr th:only-of-type {\n",
              "        vertical-align: middle;\n",
              "    }\n",
              "\n",
              "    .dataframe tbody tr th {\n",
              "        vertical-align: top;\n",
              "    }\n",
              "\n",
              "    .dataframe thead th {\n",
              "        text-align: right;\n",
              "    }\n",
              "</style>\n",
              "<table border=\"1\" class=\"dataframe\">\n",
              "  <thead>\n",
              "    <tr style=\"text-align: right;\">\n",
              "      <th></th>\n",
              "      <th>Rooms_num</th>\n",
              "      <th>Square</th>\n",
              "      <th>Square_living</th>\n",
              "      <th>Square_kitchen</th>\n",
              "      <th>Price</th>\n",
              "    </tr>\n",
              "  </thead>\n",
              "  <tbody>\n",
              "    <tr>\n",
              "      <th>0</th>\n",
              "      <td>1</td>\n",
              "      <td>40.0</td>\n",
              "      <td>20.0</td>\n",
              "      <td>10.0</td>\n",
              "      <td>1596.0</td>\n",
              "    </tr>\n",
              "    <tr>\n",
              "      <th>1</th>\n",
              "      <td>2</td>\n",
              "      <td>60.0</td>\n",
              "      <td>32.0</td>\n",
              "      <td>10.0</td>\n",
              "      <td>1876.0</td>\n",
              "    </tr>\n",
              "    <tr>\n",
              "      <th>2</th>\n",
              "      <td>2</td>\n",
              "      <td>77.0</td>\n",
              "      <td>40.0</td>\n",
              "      <td>16.0</td>\n",
              "      <td>3500.0</td>\n",
              "    </tr>\n",
              "    <tr>\n",
              "      <th>3</th>\n",
              "      <td>3</td>\n",
              "      <td>66.0</td>\n",
              "      <td>42.0</td>\n",
              "      <td>9.0</td>\n",
              "      <td>2074.8</td>\n",
              "    </tr>\n",
              "    <tr>\n",
              "      <th>4</th>\n",
              "      <td>3</td>\n",
              "      <td>70.0</td>\n",
              "      <td>44.0</td>\n",
              "      <td>10.0</td>\n",
              "      <td>2156.0</td>\n",
              "    </tr>\n",
              "  </tbody>\n",
              "</table>\n",
              "</div>"
            ],
            "text/plain": [
              "   Rooms_num  Square  Square_living  Square_kitchen   Price\n",
              "0          1    40.0           20.0            10.0  1596.0\n",
              "1          2    60.0           32.0            10.0  1876.0\n",
              "2          2    77.0           40.0            16.0  3500.0\n",
              "3          3    66.0           42.0             9.0  2074.8\n",
              "4          3    70.0           44.0            10.0  2156.0"
            ]
          },
          "metadata": {
            "tags": []
          },
          "execution_count": 7
        }
      ]
    },
    {
      "cell_type": "markdown",
      "metadata": {
        "id": "YdyApVJ04caf",
        "colab_type": "text"
      },
      "source": [
        "## Построение olap-куба (зависимость средней цены от количества комнат)"
      ]
    },
    {
      "cell_type": "code",
      "metadata": {
        "id": "qNbxgfqt4mqO",
        "colab_type": "code",
        "outputId": "918a2a8c-602c-4294-d12f-3a217ca52e0a",
        "colab": {
          "base_uri": "https://localhost:8080/",
          "height": 334
        }
      },
      "source": [
        "def visualize_olap_cube(df):\n",
        "  \"\"\"\n",
        "  \"\"\"\n",
        "  rooms_prices = {}\n",
        "  colors = ['']\n",
        "\n",
        "  for num in data.Rooms_num.unique():\n",
        "    avg = data['Price'][data.Rooms_num == num].mean()\n",
        "    rooms_prices[num] = avg\n",
        "  \n",
        "  colors = [(c/13, c/15, c/10) for c in rooms_prices.keys()]\n",
        "\n",
        "  plt.figure(figsize=(5,5))\n",
        "  ax = plt.gca()\n",
        "  ax.bar(rooms_prices.keys(), rooms_prices.values(), color=colors)\n",
        "  ax.set_xlabel('Количество комнат')\n",
        "  ax.set_ylabel('Средняя цена')\n",
        "\n",
        "  \n",
        "visualize_olap_cube(df=data)\n"
      ],
      "execution_count": 8,
      "outputs": [
        {
          "output_type": "display_data",
          "data": {
            "image/png": "[encoded data removed]",
            "text/plain": [
              "<Figure size 360x360 with 1 Axes>"
            ]
          },
          "metadata": {
            "tags": []
          }
        }
      ]
    },
    {
      "cell_type": "markdown",
      "metadata": {
        "id": "Ivc22-i30Bg_",
        "colab_type": "text"
      },
      "source": [
        "# Рассматриваем только однокомнатные квартиры\n",
        "## Обработка выбросов и пропусков"
      ]
    },
    {
      "cell_type": "code",
      "metadata": {
        "id": "zsPbIaReypV8",
        "colab_type": "code",
        "outputId": "54002290-32f5-4997-ff7f-6fce3a9f6027",
        "colab": {
          "base_uri": "https://localhost:8080/",
          "height": 204
        }
      },
      "source": [
        "df = data.copy()\n",
        "df = df[\n",
        "        ['Square', 'Square_living', 'Square_kitchen', 'Price']\n",
        "        ][df['Rooms_num'] == 1].reset_index(drop=True)\n",
        "df.head()"
      ],
      "execution_count": 9,
      "outputs": [
        {
          "output_type": "execute_result",
          "data": {
            "text/html": [
              "<div>\n",
              "<style scoped>\n",
              "    .dataframe tbody tr th:only-of-type {\n",
              "        vertical-align: middle;\n",
              "    }\n",
              "\n",
              "    .dataframe tbody tr th {\n",
              "        vertical-align: top;\n",
              "    }\n",
              "\n",
              "    .dataframe thead th {\n",
              "        text-align: right;\n",
              "    }\n",
              "</style>\n",
              "<table border=\"1\" class=\"dataframe\">\n",
              "  <thead>\n",
              "    <tr style=\"text-align: right;\">\n",
              "      <th></th>\n",
              "      <th>Square</th>\n",
              "      <th>Square_living</th>\n",
              "      <th>Square_kitchen</th>\n",
              "      <th>Price</th>\n",
              "    </tr>\n",
              "  </thead>\n",
              "  <tbody>\n",
              "    <tr>\n",
              "      <th>0</th>\n",
              "      <td>40.0</td>\n",
              "      <td>20.0</td>\n",
              "      <td>10.0</td>\n",
              "      <td>1596.0</td>\n",
              "    </tr>\n",
              "    <tr>\n",
              "      <th>1</th>\n",
              "      <td>37.0</td>\n",
              "      <td>17.0</td>\n",
              "      <td>8.0</td>\n",
              "      <td>1344.0</td>\n",
              "    </tr>\n",
              "    <tr>\n",
              "      <th>2</th>\n",
              "      <td>38.0</td>\n",
              "      <td>18.0</td>\n",
              "      <td>9.0</td>\n",
              "      <td>1148.0</td>\n",
              "    </tr>\n",
              "    <tr>\n",
              "      <th>3</th>\n",
              "      <td>27.0</td>\n",
              "      <td>14.0</td>\n",
              "      <td>6.0</td>\n",
              "      <td>686.0</td>\n",
              "    </tr>\n",
              "    <tr>\n",
              "      <th>4</th>\n",
              "      <td>30.0</td>\n",
              "      <td>17.0</td>\n",
              "      <td>6.0</td>\n",
              "      <td>1008.0</td>\n",
              "    </tr>\n",
              "  </tbody>\n",
              "</table>\n",
              "</div>"
            ],
            "text/plain": [
              "   Square  Square_living  Square_kitchen   Price\n",
              "0    40.0           20.0            10.0  1596.0\n",
              "1    37.0           17.0             8.0  1344.0\n",
              "2    38.0           18.0             9.0  1148.0\n",
              "3    27.0           14.0             6.0   686.0\n",
              "4    30.0           17.0             6.0  1008.0"
            ]
          },
          "metadata": {
            "tags": []
          },
          "execution_count": 9
        }
      ]
    },
    {
      "cell_type": "code",
      "metadata": {
        "id": "FbpXnnXQziuh",
        "colab_type": "code",
        "outputId": "896d83d5-769f-4548-b7cb-bfb77d960cf8",
        "colab": {
          "base_uri": "https://localhost:8080/",
          "height": 34
        }
      },
      "source": [
        "df.shape"
      ],
      "execution_count": 10,
      "outputs": [
        {
          "output_type": "execute_result",
          "data": {
            "text/plain": [
              "(391, 4)"
            ]
          },
          "metadata": {
            "tags": []
          },
          "execution_count": 10
        }
      ]
    },
    {
      "cell_type": "code",
      "metadata": {
        "id": "YBZu-rfc4KfE",
        "colab_type": "code",
        "colab": {}
      },
      "source": [
        "# Заполняем пропуски медианой\n",
        "df = df.fillna(value = df.quantile())"
      ],
      "execution_count": 0,
      "outputs": []
    },
    {
      "cell_type": "code",
      "metadata": {
        "id": "U1iZq_5VEMEd",
        "colab_type": "code",
        "outputId": "b6a9afa1-29d9-4076-bc39-413f794994ba",
        "colab": {
          "base_uri": "https://localhost:8080/",
          "height": 1000
        }
      },
      "source": [
        "for col in df.columns:\n",
        "  plt.figure(figsize=(6,4))\n",
        "  sns.boxplot(x=df[col])"
      ],
      "execution_count": 12,
      "outputs": [
        {
          "output_type": "display_data",
          "data": {
            "image/png": "[encoded data removed]",
            "text/plain": [
              "<Figure size 432x288 with 1 Axes>"
            ]
          },
          "metadata": {
            "tags": []
          }
        },
        {
          "output_type": "display_data",
          "data": {
            "image/png": "[encoded data removed]",
            "text/plain": [
              "<Figure size 432x288 with 1 Axes>"
            ]
          },
          "metadata": {
            "tags": []
          }
        },
        {
          "output_type": "display_data",
          "data": {
            "image/png": "[encoded data removed]",
            "text/plain": [
              "<Figure size 432x288 with 1 Axes>"
            ]
          },
          "metadata": {
            "tags": []
          }
        },
        {
          "output_type": "display_data",
          "data": {
            "image/png": "[encoded data removed]",
            "text/plain": [
              "<Figure size 432x288 with 1 Axes>"
            ]
          },
          "metadata": {
            "tags": []
          }
        }
      ]
    },
    {
      "cell_type": "code",
      "metadata": {
        "id": "A8hoNz0vCv_6",
        "colab_type": "code",
        "colab": {
          "base_uri": "https://localhost:8080/",
          "height": 34
        },
        "outputId": "2002f828-c539-4fba-c764-3c2871d89cab"
      },
      "source": [
        "def find_outliners(df):\n",
        "  \"\"\"\n",
        "  Метод для нахождения выбросов по методу Д.Тьюки\n",
        "  \"\"\"\n",
        "\n",
        "  cols_indexes = {}\n",
        "  all_indexes = []\n",
        "  for col in df.columns:\n",
        "    IQR = df[col].quantile(q=0.75) - df[col].quantile(q=0.25)\n",
        "    LIF = df[col].quantile(q=0.25) - 1.5*IQR\n",
        "    UIF = df[col].quantile(q=0.75) + 1.5*IQR\n",
        "\n",
        "    indexes = []\n",
        "    for i, value in enumerate(df[col]):\n",
        "      if value < LIF or value > UIF:\n",
        "        indexes.append(i)\n",
        "        all_indexes.append(i)\n",
        "\n",
        "    cols_indexes[col] = indexes\n",
        "\n",
        "  return cols_indexes, set(all_indexes)\n",
        "\n",
        "_, all_ind = find_outliners(df=df)\n",
        "print(len(all_ind))"
      ],
      "execution_count": 14,
      "outputs": [
        {
          "output_type": "stream",
          "text": [
            "36\n"
          ],
          "name": "stdout"
        }
      ]
    },
    {
      "cell_type": "code",
      "metadata": {
        "id": "kxYDGRp2I13s",
        "colab_type": "code",
        "colab": {
          "base_uri": "https://localhost:8080/",
          "height": 1000
        },
        "outputId": "6ff93a91-0cd2-4d44-d791-2f119d8aa585"
      },
      "source": [
        "# Удаляем все найденные выбросы\n",
        "df = df.drop(all_ind)\n",
        "\n",
        "for col in df.columns:\n",
        "  plt.figure(figsize=[6,4])\n",
        "  sns.boxplot(x=df[col])\n",
        "\n",
        "df.shape"
      ],
      "execution_count": 15,
      "outputs": [
        {
          "output_type": "execute_result",
          "data": {
            "text/plain": [
              "(355, 4)"
            ]
          },
          "metadata": {
            "tags": []
          },
          "execution_count": 15
        },
        {
          "output_type": "display_data",
          "data": {
            "image/png": "[encoded data removed]",
            "text/plain": [
              "<Figure size 432x288 with 1 Axes>"
            ]
          },
          "metadata": {
            "tags": []
          }
        },
        {
          "output_type": "display_data",
          "data": {
            "image/png": "[encoded data removed]",
            "text/plain": [
              "<Figure size 432x288 with 1 Axes>"
            ]
          },
          "metadata": {
            "tags": []
          }
        },
        {
          "output_type": "display_data",
          "data": {
            "image/png": "[encoded data removed]",
            "text/plain": [
              "<Figure size 432x288 with 1 Axes>"
            ]
          },
          "metadata": {
            "tags": []
          }
        },
        {
          "output_type": "display_data",
          "data": {
            "image/png": "[encoded data removed]",
            "text/plain": [
              "<Figure size 432x288 with 1 Axes>"
            ]
          },
          "metadata": {
            "tags": []
          }
        }
      ]
    },
    {
      "cell_type": "markdown",
      "metadata": {
        "id": "GyCz5TVLKX24",
        "colab_type": "text"
      },
      "source": [
        "# Корреляция"
      ]
    },
    {
      "cell_type": "code",
      "metadata": {
        "id": "49wDGoGsJ961",
        "colab_type": "code",
        "outputId": "39f9e90f-bdfd-4f2a-d518-5cc7f61d2aff",
        "colab": {
          "base_uri": "https://localhost:8080/",
          "height": 173
        }
      },
      "source": [
        "df.corr()"
      ],
      "execution_count": 0,
      "outputs": [
        {
          "output_type": "execute_result",
          "data": {
            "text/html": [
              "<div>\n",
              "<style scoped>\n",
              "    .dataframe tbody tr th:only-of-type {\n",
              "        vertical-align: middle;\n",
              "    }\n",
              "\n",
              "    .dataframe tbody tr th {\n",
              "        vertical-align: top;\n",
              "    }\n",
              "\n",
              "    .dataframe thead th {\n",
              "        text-align: right;\n",
              "    }\n",
              "</style>\n",
              "<table border=\"1\" class=\"dataframe\">\n",
              "  <thead>\n",
              "    <tr style=\"text-align: right;\">\n",
              "      <th></th>\n",
              "      <th>Square</th>\n",
              "      <th>Square_living</th>\n",
              "      <th>Square_kitchen</th>\n",
              "      <th>Price</th>\n",
              "    </tr>\n",
              "  </thead>\n",
              "  <tbody>\n",
              "    <tr>\n",
              "      <th>Square</th>\n",
              "      <td>1.000000</td>\n",
              "      <td>0.909997</td>\n",
              "      <td>0.272263</td>\n",
              "      <td>0.814525</td>\n",
              "    </tr>\n",
              "    <tr>\n",
              "      <th>Square_living</th>\n",
              "      <td>0.909997</td>\n",
              "      <td>1.000000</td>\n",
              "      <td>-0.007071</td>\n",
              "      <td>0.794101</td>\n",
              "    </tr>\n",
              "    <tr>\n",
              "      <th>Square_kitchen</th>\n",
              "      <td>0.272263</td>\n",
              "      <td>-0.007071</td>\n",
              "      <td>1.000000</td>\n",
              "      <td>0.168324</td>\n",
              "    </tr>\n",
              "    <tr>\n",
              "      <th>Price</th>\n",
              "      <td>0.814525</td>\n",
              "      <td>0.794101</td>\n",
              "      <td>0.168324</td>\n",
              "      <td>1.000000</td>\n",
              "    </tr>\n",
              "  </tbody>\n",
              "</table>\n",
              "</div>"
            ],
            "text/plain": [
              "                  Square  Square_living  Square_kitchen     Price\n",
              "Square          1.000000       0.909997        0.272263  0.814525\n",
              "Square_living   0.909997       1.000000       -0.007071  0.794101\n",
              "Square_kitchen  0.272263      -0.007071        1.000000  0.168324\n",
              "Price           0.814525       0.794101        0.168324  1.000000"
            ]
          },
          "metadata": {
            "tags": []
          },
          "execution_count": 151
        }
      ]
    },
    {
      "cell_type": "code",
      "metadata": {
        "id": "b6rAIm2IKEe1",
        "colab_type": "code",
        "outputId": "f30c0586-f748-45fb-b4ba-75552d1ee011",
        "colab": {
          "base_uri": "https://localhost:8080/",
          "height": 353
        }
      },
      "source": [
        "sns.heatmap(df.corr(), yticklabels=True, xticklabels=True, annot=True)"
      ],
      "execution_count": 16,
      "outputs": [
        {
          "output_type": "execute_result",
          "data": {
            "text/plain": [
              "<matplotlib.axes._subplots.AxesSubplot at 0x7f930345aa90>"
            ]
          },
          "metadata": {
            "tags": []
          },
          "execution_count": 16
        },
        {
          "output_type": "display_data",
          "data": {
            "image/png": "[encoded data removed]",
            "text/plain": [
              "<Figure size 432x288 with 2 Axes>"
            ]
          },
          "metadata": {
            "tags": []
          }
        }
      ]
    },
    {
      "cell_type": "code",
      "metadata": {
        "id": "-XGdNAWTzVn-",
        "colab_type": "code",
        "colab": {
          "base_uri": "https://localhost:8080/",
          "height": 297
        },
        "outputId": "28194381-bae4-46cb-80df-b98586562862"
      },
      "source": [
        "df.describe()"
      ],
      "execution_count": 19,
      "outputs": [
        {
          "output_type": "execute_result",
          "data": {
            "text/html": [
              "<div>\n",
              "<style scoped>\n",
              "    .dataframe tbody tr th:only-of-type {\n",
              "        vertical-align: middle;\n",
              "    }\n",
              "\n",
              "    .dataframe tbody tr th {\n",
              "        vertical-align: top;\n",
              "    }\n",
              "\n",
              "    .dataframe thead th {\n",
              "        text-align: right;\n",
              "    }\n",
              "</style>\n",
              "<table border=\"1\" class=\"dataframe\">\n",
              "  <thead>\n",
              "    <tr style=\"text-align: right;\">\n",
              "      <th></th>\n",
              "      <th>Square</th>\n",
              "      <th>Square_living</th>\n",
              "      <th>Square_kitchen</th>\n",
              "      <th>Price</th>\n",
              "    </tr>\n",
              "  </thead>\n",
              "  <tbody>\n",
              "    <tr>\n",
              "      <th>count</th>\n",
              "      <td>355.000000</td>\n",
              "      <td>355.000000</td>\n",
              "      <td>355.000000</td>\n",
              "      <td>355.000000</td>\n",
              "    </tr>\n",
              "    <tr>\n",
              "      <th>mean</th>\n",
              "      <td>54.280282</td>\n",
              "      <td>31.460563</td>\n",
              "      <td>9.486197</td>\n",
              "      <td>1630.456051</td>\n",
              "    </tr>\n",
              "    <tr>\n",
              "      <th>std</th>\n",
              "      <td>17.114759</td>\n",
              "      <td>13.025500</td>\n",
              "      <td>2.878413</td>\n",
              "      <td>493.875473</td>\n",
              "    </tr>\n",
              "    <tr>\n",
              "      <th>min</th>\n",
              "      <td>23.000000</td>\n",
              "      <td>8.000000</td>\n",
              "      <td>5.000000</td>\n",
              "      <td>594.000000</td>\n",
              "    </tr>\n",
              "    <tr>\n",
              "      <th>25%</th>\n",
              "      <td>40.000000</td>\n",
              "      <td>20.000000</td>\n",
              "      <td>7.000000</td>\n",
              "      <td>1298.000000</td>\n",
              "    </tr>\n",
              "    <tr>\n",
              "      <th>50%</th>\n",
              "      <td>52.000000</td>\n",
              "      <td>30.000000</td>\n",
              "      <td>9.000000</td>\n",
              "      <td>1512.000000</td>\n",
              "    </tr>\n",
              "    <tr>\n",
              "      <th>75%</th>\n",
              "      <td>68.000000</td>\n",
              "      <td>42.000000</td>\n",
              "      <td>11.000000</td>\n",
              "      <td>1944.000000</td>\n",
              "    </tr>\n",
              "    <tr>\n",
              "      <th>max</th>\n",
              "      <td>103.000000</td>\n",
              "      <td>72.000000</td>\n",
              "      <td>19.000000</td>\n",
              "      <td>3250.800000</td>\n",
              "    </tr>\n",
              "  </tbody>\n",
              "</table>\n",
              "</div>"
            ],
            "text/plain": [
              "           Square  Square_living  Square_kitchen        Price\n",
              "count  355.000000     355.000000      355.000000   355.000000\n",
              "mean    54.280282      31.460563        9.486197  1630.456051\n",
              "std     17.114759      13.025500        2.878413   493.875473\n",
              "min     23.000000       8.000000        5.000000   594.000000\n",
              "25%     40.000000      20.000000        7.000000  1298.000000\n",
              "50%     52.000000      30.000000        9.000000  1512.000000\n",
              "75%     68.000000      42.000000       11.000000  1944.000000\n",
              "max    103.000000      72.000000       19.000000  3250.800000"
            ]
          },
          "metadata": {
            "tags": []
          },
          "execution_count": 19
        }
      ]
    },
    {
      "cell_type": "markdown",
      "metadata": {
        "id": "CRQU3zCxLqg9",
        "colab_type": "text"
      },
      "source": [
        "# Линейная регрессия: цена в зависимости от общей площади и площади кухни"
      ]
    },
    {
      "cell_type": "code",
      "metadata": {
        "id": "P19nYMCZLg1j",
        "colab_type": "code",
        "colab": {}
      },
      "source": [
        "from sklearn.linear_model import LinearRegression\n",
        "from sklearn.metrics import mean_absolute_error, r2_score\n",
        "from sklearn.model_selection import train_test_split"
      ],
      "execution_count": 0,
      "outputs": []
    },
    {
      "cell_type": "code",
      "metadata": {
        "id": "_w5Y8UyWMeLg",
        "colab_type": "code",
        "colab": {}
      },
      "source": [
        "df_ = df.copy()\n",
        "Y = df_['Price']\n",
        "X = df_[['Square', 'Square_kitchen']]\n",
        "\n",
        "\n",
        "X_train, X_test, Y_train, Y_test = train_test_split(X, Y, test_size=0.3, random_state=50)"
      ],
      "execution_count": 0,
      "outputs": []
    },
    {
      "cell_type": "code",
      "metadata": {
        "id": "Y0netYPuMpEx",
        "colab_type": "code",
        "outputId": "d4689f38-d01c-4977-bc07-7a894777a097",
        "colab": {
          "base_uri": "https://localhost:8080/",
          "height": 68
        }
      },
      "source": [
        "lin_reg = LinearRegression(fit_intercept=True, normalize=True)\n",
        "lin_reg.fit(X_train, Y_train)\n",
        "Y_pred = lin_reg.predict(X_test)\n",
        "\n",
        "print(f'Коэффициенты: {lin_reg.coef_}, {lin_reg.intercept_}')\n",
        "print(f'Средняя абсолютная ошибка: {mean_absolute_error(Y_test, Y_pred)}')\n",
        "print(f'Коэффициент детерминации: {r2_score(Y_test, Y_pred)}')"
      ],
      "execution_count": 38,
      "outputs": [
        {
          "output_type": "stream",
          "text": [
            "Коэффициенты: [22.65410248 -8.60081541], 484.95505592183235\n",
            "Средняя абсолютная ошибка: 198.48214650092757\n",
            "Коэффициент детерминации: 0.7110136103105775\n"
          ],
          "name": "stdout"
        }
      ]
    },
    {
      "cell_type": "code",
      "metadata": {
        "id": "VT7OZIUnM05U",
        "colab_type": "code",
        "outputId": "6e49e4e6-282d-4fae-c0f8-9f40ddd981e0",
        "colab": {
          "base_uri": "https://localhost:8080/",
          "height": 391
        }
      },
      "source": [
        "plt.figure(figsize=(6,6))\n",
        "plt.scatter(Y_test, Y_pred, color='indigo', linewidth=0.1)"
      ],
      "execution_count": 39,
      "outputs": [
        {
          "output_type": "execute_result",
          "data": {
            "text/plain": [
              "<matplotlib.collections.PathCollection at 0x7f92fc49df28>"
            ]
          },
          "metadata": {
            "tags": []
          },
          "execution_count": 39
        },
        {
          "output_type": "display_data",
          "data": {
            "image/png": "[encoded data removed]",
            "text/plain": [
              "<Figure size 432x432 with 1 Axes>"
            ]
          },
          "metadata": {
            "tags": []
          }
        }
      ]
    },
    {
      "cell_type": "markdown",
      "metadata": {
        "id": "FYjlijd1Q0tO",
        "colab_type": "text"
      },
      "source": [
        "# Нейросетевые модели"
      ]
    },
    {
      "cell_type": "code",
      "metadata": {
        "id": "RGEgwlqn9nMs",
        "colab_type": "code",
        "colab": {}
      },
      "source": [
        "df_ = df.copy()\n",
        "Y = df_['Price']\n",
        "X = df_[['Square', 'Square_kitchen', 'Square_living']]\n",
        "\n",
        "\n",
        "X_train, X_test, Y_train, Y_test = train_test_split(X, Y, test_size=0.3, random_state=50)"
      ],
      "execution_count": 0,
      "outputs": []
    },
    {
      "cell_type": "code",
      "metadata": {
        "id": "UFhOh-5i9wdV",
        "colab_type": "code",
        "colab": {
          "base_uri": "https://localhost:8080/",
          "height": 34
        },
        "outputId": "0e2d18df-f5ed-4b55-907d-387c8021b898"
      },
      "source": [
        "import torch\n",
        "\n",
        "x_train, y_train, x_test, y_test = map(\n",
        "    torch.tensor, (X_train.values.astype('float32'), Y_train.values.astype('float32'), \n",
        "                   X_test.values.astype('float32'), Y_test.values.astype('float32'))\n",
        ")\n",
        "print(x_train.size(), y_train.size(), x_test.size(), y_test.size())"
      ],
      "execution_count": 158,
      "outputs": [
        {
          "output_type": "stream",
          "text": [
            "torch.Size([248, 3]) torch.Size([248]) torch.Size([107, 3]) torch.Size([107])\n"
          ],
          "name": "stdout"
        }
      ]
    },
    {
      "cell_type": "code",
      "metadata": {
        "id": "3-kZqtvvDDSw",
        "colab_type": "code",
        "colab": {}
      },
      "source": [
        "input_size = x_train.size()[1]\n",
        "output_size = 1\n",
        "n_hidden_neurons = 4"
      ],
      "execution_count": 0,
      "outputs": []
    },
    {
      "cell_type": "code",
      "metadata": {
        "id": "pR1RsR-uVm1q",
        "colab_type": "code",
        "colab": {}
      },
      "source": [
        "y_train = y_train.unsqueeze(1)"
      ],
      "execution_count": 0,
      "outputs": []
    },
    {
      "cell_type": "code",
      "metadata": {
        "id": "P9LGarRSQ3jz",
        "colab_type": "code",
        "colab": {}
      },
      "source": [
        "class LinNet(torch.nn.Module):\n",
        "  def __init__(self, input_size, n_hidden_neurons, output_size):\n",
        "    super().__init__()\n",
        "\n",
        "    self.linear_input = torch.nn.Linear(\n",
        "        input_size, \n",
        "        n_hidden_neurons,\n",
        "        bias=True,\n",
        "        )\n",
        "    # self.act = torch.nn.ReLU()\n",
        "    self.linear_output = torch.nn.Linear(\n",
        "        n_hidden_neurons, \n",
        "        output_size,\n",
        "        )\n",
        "\n",
        "  def forward(self, x):\n",
        "    x = self.linear_input(x)\n",
        "    # x = self.act(x)\n",
        "    x = self.linear_output(x)\n",
        "    return x\n"
      ],
      "execution_count": 0,
      "outputs": []
    },
    {
      "cell_type": "code",
      "metadata": {
        "id": "mLbfxZMbCpxV",
        "colab_type": "code",
        "colab": {
          "base_uri": "https://localhost:8080/",
          "height": 697
        },
        "outputId": "ab591bdb-20ce-4354-b534-2a23f37bc649"
      },
      "source": [
        "net = LinNet(input_size=input_size, n_hidden_neurons=n_hidden_neurons, output_size=output_size)\n",
        "loss_fn = torch.nn.MSELoss()\n",
        "optimizer = torch.optim.Adam(net.parameters())\n",
        "\n",
        "\n",
        "\n",
        "for epoch_index in range(4000): \n",
        "\n",
        "    y_pred = net.forward(x_train)\n",
        "    loss_value = loss_fn(y_pred, y_train)\n",
        "    loss_value.backward()\n",
        "    optimizer.step()\n",
        "    if epoch_index%100 == 0:\n",
        "      print('epoch {}, loss {}'.format(epoch_index, loss_value.data))"
      ],
      "execution_count": 183,
      "outputs": [
        {
          "output_type": "stream",
          "text": [
            "epoch 0, loss 3011527.25\n",
            "epoch 100, loss 2969772.25\n",
            "epoch 200, loss 2894276.5\n",
            "epoch 300, loss 2735583.5\n",
            "epoch 400, loss 2490620.75\n",
            "epoch 500, loss 2163616.5\n",
            "epoch 600, loss 1762280.0\n",
            "epoch 700, loss 1330851.25\n",
            "epoch 800, loss 914470.8125\n",
            "epoch 900, loss 553986.5625\n",
            "epoch 1000, loss 283310.4375\n",
            "epoch 1100, loss 127152.4609375\n",
            "epoch 1200, loss 98334.7890625\n",
            "epoch 1300, loss 194532.125\n",
            "epoch 1400, loss 394543.28125\n",
            "epoch 1500, loss 654715.3125\n",
            "epoch 1600, loss 907820.125\n",
            "epoch 1700, loss 1070980.25\n",
            "epoch 1800, loss 1074844.125\n",
            "epoch 1900, loss 911798.25\n",
            "epoch 2000, loss 650835.4375\n",
            "epoch 2100, loss 388923.9375\n",
            "epoch 2200, loss 197564.96875\n",
            "epoch 2300, loss 104227.5390625\n",
            "epoch 2400, loss 101980.0703125\n",
            "epoch 2500, loss 167542.96875\n",
            "epoch 2600, loss 274501.15625\n",
            "epoch 2700, loss 399476.28125\n",
            "epoch 2800, loss 523761.1875\n",
            "epoch 2900, loss 632898.5\n",
            "epoch 3000, loss 715636.125\n",
            "epoch 3100, loss 763013.0625\n",
            "epoch 3200, loss 768076.9375\n",
            "epoch 3300, loss 726752.75\n",
            "epoch 3400, loss 640127.75\n",
            "epoch 3500, loss 517359.78125\n",
            "epoch 3600, loss 376800.65625\n",
            "epoch 3700, loss 243236.96875\n",
            "epoch 3800, loss 142184.265625\n",
            "epoch 3900, loss 94190.8046875\n"
          ],
          "name": "stdout"
        }
      ]
    },
    {
      "cell_type": "code",
      "metadata": {
        "id": "xVOcmxJpHBtK",
        "colab_type": "code",
        "colab": {
          "base_uri": "https://localhost:8080/",
          "height": 282
        },
        "outputId": "ab1ba55e-48ad-4848-c72d-6af064fdf9a8"
      },
      "source": [
        "with torch.no_grad():\n",
        "  y_pred = net(x_test)\n",
        "\n",
        "plt.scatter(y_test, y_pred)"
      ],
      "execution_count": 184,
      "outputs": [
        {
          "output_type": "execute_result",
          "data": {
            "text/plain": [
              "<matplotlib.collections.PathCollection at 0x7f92ae3cc6d8>"
            ]
          },
          "metadata": {
            "tags": []
          },
          "execution_count": 184
        },
        {
          "output_type": "display_data",
          "data": {
            "image/png": "[encoded data removed]",
            "text/plain": [
              "<Figure size 432x288 with 1 Axes>"
            ]
          },
          "metadata": {
            "tags": []
          }
        }
      ]
    },
    {
      "cell_type": "code",
      "metadata": {
        "id": "LIWB4YCDNwVl",
        "colab_type": "code",
        "colab": {
          "base_uri": "https://localhost:8080/",
          "height": 119
        },
        "outputId": "ce839efd-9571-438d-b3f6-adea7d5a86fb"
      },
      "source": [
        "y_test[:5], y_pred[:5]"
      ],
      "execution_count": 185,
      "outputs": [
        {
          "output_type": "execute_result",
          "data": {
            "text/plain": [
              "(tensor([1755.0000, 1350.0000, 1431.0000, 2970.0000, 2300.3999]),\n",
              " tensor([[2077.7822],\n",
              "         [1600.8512],\n",
              "         [1414.2269],\n",
              "         [2589.6218],\n",
              "         [2241.7317]]))"
            ]
          },
          "metadata": {
            "tags": []
          },
          "execution_count": 185
        }
      ]
    },
    {
      "cell_type": "code",
      "metadata": {
        "id": "4AZXDD3BQRVd",
        "colab_type": "code",
        "colab": {}
      },
      "source": [
        ""
      ],
      "execution_count": 0,
      "outputs": []
    }
  ]
}