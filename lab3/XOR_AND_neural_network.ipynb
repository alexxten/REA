{
  "nbformat": 4,
  "nbformat_minor": 0,
  "metadata": {
    "colab": {
      "name": "XOR_AND_neural_network.ipynb",
      "provenance": [],
      "collapsed_sections": []
    },
    "kernelspec": {
      "name": "python3",
      "display_name": "Python 3"
    }
  },
  "cells": [
    {
      "cell_type": "markdown",
      "metadata": {
        "id": "xXN5ysg7ui0Y",
        "colab_type": "text"
      },
      "source": [
        "# Ответы на вопросы\n",
        "\n",
        "1. **Что означает \"Sequential\" в синтаксисе библиотеки Keras?**\n",
        "\n",
        " Объект последовательности линейно связанных слоев в модели\n",
        "\n",
        "\n",
        "2. **Объяснить синтаксис метода добавления слоев в нейронную сеть**\n",
        "\n",
        " Для добавления слоев в нейросеть используется метод add(), принимающий на вход следующие аргументы:\n",
        "\n",
        "  - inputs: входящие/выходящие значения (в виде матриц, минимум 2)\n",
        "\n",
        "  - другие аргументы, стандартные для слоя\n",
        "\n",
        "  Например, в данной работе на вход методу передавался Dense - объект обычного полносвязанного слоя со своими аргументами - размерностью входных и выходных параметров, функцией активации.\n",
        "\n",
        "\n",
        "3. **Какой метод обучения использовался в данной работе?**\n",
        "\n",
        "- Model1 - XOR - стохастический градиентный спуск\n",
        "- Model2 - XOR - стохастический градиентный спуск\n",
        "- Model3 - AND - Adam -  адаптивная оценка момента\n",
        "\n",
        "4. **Что такое персептрон?**\n",
        "\n",
        " Перцептрон - простейший вид искусственных нейронных сетей; математическая модель.\n",
        "В основе персептрона лежит математическая модель восприятия информации мозгом. В самом общем своем виде он представляет систему из элементов трех разных типов: сенсоров, ассоциативных элементов и реагирующих элементов. \n",
        "\n",
        "5. **Какие параметра можно менять, чтобы улучшить результат обучения?**\n",
        "\n",
        "- архитектуру нейросети - количество слоев, связи между ними, количество нейронов во входящем, скрытых слоях\n",
        "- функцию потерь\n",
        "- функцию активации\n",
        "- метод обучения и его параметры (скорость обучения/шаг)\n",
        "- количество эпох обучения\n",
        "- размер батча\n"
      ]
    },
    {
      "cell_type": "code",
      "metadata": {
        "id": "wIsDbamkujFm",
        "colab_type": "code",
        "colab": {
          "base_uri": "https://localhost:8080/",
          "height": 88
        },
        "outputId": "3b964045-0c17-4093-9537-183b9ac9684c"
      },
      "source": [
        "import tensorflow.compat.v1 as tf\n",
        "tf.disable_v2_behavior()\n",
        "from tensorflow import keras\n",
        "from tensorflow.keras import layers\n",
        "from tensorflow.keras import Sequential\n",
        "from tensorflow.keras.layers import Conv2D, MaxPooling2D, Flatten, Dense, Dropout, Activation, BatchNormalization, AveragePooling2D\n",
        "from tensorflow.keras.optimizers import SGD, RMSprop, Adam\n",
        "import tensorflow as tf\n",
        "import logging\n",
        "import numpy as np"
      ],
      "execution_count": 1,
      "outputs": [
        {
          "output_type": "stream",
          "text": [
            "WARNING:tensorflow:From /usr/local/lib/python3.6/dist-packages/tensorflow/python/compat/v2_compat.py:96: disable_resource_variables (from tensorflow.python.ops.variable_scope) is deprecated and will be removed in a future version.\n",
            "Instructions for updating:\n",
            "non-resource variables are not supported in the long term\n"
          ],
          "name": "stdout"
        }
      ]
    },
    {
      "cell_type": "markdown",
      "metadata": {
        "id": "V1AxdSUvjWRw",
        "colab_type": "text"
      },
      "source": [
        "# Model1 - XOR"
      ]
    },
    {
      "cell_type": "code",
      "metadata": {
        "id": "rNWs37vzhmH2",
        "colab_type": "code",
        "outputId": "ebe5060f-210d-45c2-b036-0a8654cd8055",
        "colab": {
          "base_uri": "https://localhost:8080/",
          "height": 309
        }
      },
      "source": [
        "model = Sequential()\n",
        "model.add(Dense(2, input_dim=2, activation='relu'))\n",
        "model.add(Dense(1, activation='sigmoid'))\n",
        "model.compile(loss='binary_crossentropy', optimizer=SGD(lr=0.1))\n",
        "print(model.summary())"
      ],
      "execution_count": 2,
      "outputs": [
        {
          "output_type": "stream",
          "text": [
            "WARNING:tensorflow:From /usr/local/lib/python3.6/dist-packages/tensorflow/python/ops/resource_variable_ops.py:1666: calling BaseResourceVariable.__init__ (from tensorflow.python.ops.resource_variable_ops) with constraint is deprecated and will be removed in a future version.\n",
            "Instructions for updating:\n",
            "If using Keras pass *_constraint arguments to layers.\n",
            "Model: \"sequential\"\n",
            "_________________________________________________________________\n",
            "Layer (type)                 Output Shape              Param #   \n",
            "=================================================================\n",
            "dense (Dense)                (None, 2)                 6         \n",
            "_________________________________________________________________\n",
            "dense_1 (Dense)              (None, 1)                 3         \n",
            "=================================================================\n",
            "Total params: 9\n",
            "Trainable params: 9\n",
            "Non-trainable params: 0\n",
            "_________________________________________________________________\n",
            "None\n"
          ],
          "name": "stdout"
        }
      ]
    },
    {
      "cell_type": "code",
      "metadata": {
        "id": "zGtpCTFqhuUd",
        "colab_type": "code",
        "outputId": "59717004-8580-4769-eb5e-58835e71de70",
        "colab": {
          "base_uri": "https://localhost:8080/",
          "height": 34
        }
      },
      "source": [
        "X = np.array([[0,0], [0,1], [1,0], [1,1]])\n",
        "y = np.array([[0], [1], [1], [0]])\n",
        "model.fit(X, y, batch_size=1, epochs=1000, verbose=0)"
      ],
      "execution_count": 3,
      "outputs": [
        {
          "output_type": "execute_result",
          "data": {
            "text/plain": [
              "<tensorflow.python.keras.callbacks.History at 0x7fb2620f3780>"
            ]
          },
          "metadata": {
            "tags": []
          },
          "execution_count": 3
        }
      ]
    },
    {
      "cell_type": "code",
      "metadata": {
        "id": "gZiBfP-MhvYf",
        "colab_type": "code",
        "outputId": "c7d4a813-4722-4f9f-9505-37d4b1982f5f",
        "colab": {
          "base_uri": "https://localhost:8080/",
          "height": 275
        }
      },
      "source": [
        "print(\"Network test:\")\n",
        "print(\"XOR(0,0):\", model.predict_proba(np.array([[0, 0]])))\n",
        "print(\"XOR(0,1):\", model.predict_proba(np.array([[0, 1]])))\n",
        "print(\"XOR(1,0):\", model.predict_proba(np.array([[1, 0]])))\n",
        "print(\"XOR(1,1):\", model.predict_proba(np.array([[1, 1]])))\n",
        "\n",
        "## Parameters layer 1\n",
        "W1 = model.get_weights()[0]\n",
        "b1 = model.get_weights()[1]\n",
        "## Parameters layer 2\n",
        "W2 = model.get_weights()[2]\n",
        "b2 = model.get_weights()[3]\n",
        "\n",
        "print(\"W1:\", W1)\n",
        "print(\"b1:\", b1)\n",
        "print(\"W2:\", W2)\n",
        "print(\"b2:\", b2)"
      ],
      "execution_count": 4,
      "outputs": [
        {
          "output_type": "stream",
          "text": [
            "Network test:\n",
            "WARNING:tensorflow:From <ipython-input-4-cf41a0c90a2d>:2: Sequential.predict_proba (from tensorflow.python.keras.engine.sequential) is deprecated and will be removed after 2021-01-01.\n",
            "Instructions for updating:\n",
            "Please use `model.predict()` instead.\n",
            "XOR(0,0): [[0.33427462]]\n",
            "XOR(0,1): [[0.99873394]]\n",
            "XOR(1,0): [[0.33427462]]\n",
            "XOR(1,1): [[0.33427462]]\n",
            "W1: [[-2.4654937 -0.8504968]\n",
            " [ 2.3713238 -1.1891418]]\n",
            "b1: [-0.0473411  0.       ]\n",
            "W2: [[ 3.1667454 ]\n",
            " [-0.08731174]]\n",
            "b2: [-0.68891436]\n"
          ],
          "name": "stdout"
        }
      ]
    },
    {
      "cell_type": "markdown",
      "metadata": {
        "id": "pchhUthOjff0",
        "colab_type": "text"
      },
      "source": [
        "# Model2 - XOR"
      ]
    },
    {
      "cell_type": "code",
      "metadata": {
        "id": "BXd9CRt8iGFD",
        "colab_type": "code",
        "outputId": "3ded6676-d6c8-4845-e41c-c76b3b515936",
        "colab": {
          "base_uri": "https://localhost:8080/",
          "height": 238
        }
      },
      "source": [
        "model = Sequential()\n",
        "model.add(Dense(8, input_dim=2, activation='relu'))\n",
        "model.add(Dense(1, activation='sigmoid'))\n",
        "model.compile(loss='binary_crossentropy', optimizer=SGD())\n",
        "print(model.summary())"
      ],
      "execution_count": 5,
      "outputs": [
        {
          "output_type": "stream",
          "text": [
            "Model: \"sequential_1\"\n",
            "_________________________________________________________________\n",
            "Layer (type)                 Output Shape              Param #   \n",
            "=================================================================\n",
            "dense_2 (Dense)              (None, 8)                 24        \n",
            "_________________________________________________________________\n",
            "dense_3 (Dense)              (None, 1)                 9         \n",
            "=================================================================\n",
            "Total params: 33\n",
            "Trainable params: 33\n",
            "Non-trainable params: 0\n",
            "_________________________________________________________________\n",
            "None\n"
          ],
          "name": "stdout"
        }
      ]
    },
    {
      "cell_type": "code",
      "metadata": {
        "id": "B_sOv6Shj_xE",
        "colab_type": "code",
        "outputId": "4a3e1afd-3009-4fbf-8453-8cd99c90072c",
        "colab": {
          "base_uri": "https://localhost:8080/",
          "height": 34
        }
      },
      "source": [
        "X = np.array([[0,0], [0,1], [1,0], [1,1]])\n",
        "y = np.array([[0], [1], [1], [0]])\n",
        "model.fit(X, y, batch_size=1, epochs=1000, verbose=0)"
      ],
      "execution_count": 6,
      "outputs": [
        {
          "output_type": "execute_result",
          "data": {
            "text/plain": [
              "<tensorflow.python.keras.callbacks.History at 0x7fb25c626a90>"
            ]
          },
          "metadata": {
            "tags": []
          },
          "execution_count": 6
        }
      ]
    },
    {
      "cell_type": "code",
      "metadata": {
        "id": "H4CXuVJtkEdc",
        "colab_type": "code",
        "outputId": "34e32b83-87b4-48ea-d68d-a2723203b4f8",
        "colab": {
          "base_uri": "https://localhost:8080/",
          "height": 408
        }
      },
      "source": [
        "print(\"Network test:\")\n",
        "print(\"XOR(0,0):\", model.predict_proba(np.array([[0, 0]])))\n",
        "print(\"XOR(0,1):\", model.predict_proba(np.array([[0, 1]])))\n",
        "print(\"XOR(1,0):\", model.predict_proba(np.array([[1, 0]])))\n",
        "print(\"XOR(1,1):\", model.predict_proba(np.array([[1, 1]])))\n",
        "print(\"\\n\")\n",
        "\n",
        "## Parameters layer 1\n",
        "W1 = model.get_weights()[0]\n",
        "b1 = model.get_weights()[1]\n",
        "## Parameters layer 2\n",
        "W2 = model.get_weights()[2]\n",
        "b2 = model.get_weights()[3]\n",
        "\n",
        "print(\"Network weights:\")\n",
        "print(\"W1:\", W1)\n",
        "print(\"b1:\", b1)\n",
        "print(\"W2:\", W2)\n",
        "print(\"b2:\", b2)"
      ],
      "execution_count": 7,
      "outputs": [
        {
          "output_type": "stream",
          "text": [
            "Network test:\n",
            "XOR(0,0): [[0.19557162]]\n",
            "XOR(0,1): [[0.9511175]]\n",
            "XOR(1,0): [[0.9397234]]\n",
            "XOR(1,1): [[0.05884117]]\n",
            "\n",
            "\n",
            "Network weights:\n",
            "W1: [[-0.61104155  0.710317   -1.7815697  -0.56793195  1.6207058  -0.36974144\n",
            "   0.81220716 -0.7202145 ]\n",
            " [-0.23191392 -0.71010154  1.781529   -0.65809816 -1.6222104   0.36922675\n",
            "   0.95559883 -0.01751786]]\n",
            "b1: [ 0.0000000e+00 -3.6102234e-04 -3.3935050e-03  0.0000000e+00\n",
            " -8.5534569e-04 -9.5858835e-05 -8.1109786e-01  0.0000000e+00]\n",
            "W2: [[-0.04225308]\n",
            " [ 0.67128515]\n",
            " [ 2.487661  ]\n",
            " [-0.33978143]\n",
            " [ 2.2754188 ]\n",
            " [ 0.44468704]\n",
            " [-1.4195185 ]\n",
            " [-0.5822307 ]]\n",
            "b2: [-1.4142053]\n"
          ],
          "name": "stdout"
        }
      ]
    },
    {
      "cell_type": "markdown",
      "metadata": {
        "id": "S8dblkrgoMhO",
        "colab_type": "text"
      },
      "source": [
        "# Model3 - AND"
      ]
    },
    {
      "cell_type": "code",
      "metadata": {
        "id": "O-THn4htkMwB",
        "colab_type": "code",
        "outputId": "9f24bb61-29b7-4448-8fcd-5617054d3e64",
        "colab": {
          "base_uri": "https://localhost:8080/",
          "height": 238
        }
      },
      "source": [
        "model = Sequential()\n",
        "model.add(Dense(8, input_dim=2, activation='tanh'))\n",
        "model.add(Dense(1, activation='sigmoid'))\n",
        "model.compile(loss='binary_crossentropy', optimizer=Adam())\n",
        "print(model.summary())"
      ],
      "execution_count": 8,
      "outputs": [
        {
          "output_type": "stream",
          "text": [
            "Model: \"sequential_2\"\n",
            "_________________________________________________________________\n",
            "Layer (type)                 Output Shape              Param #   \n",
            "=================================================================\n",
            "dense_4 (Dense)              (None, 8)                 24        \n",
            "_________________________________________________________________\n",
            "dense_5 (Dense)              (None, 1)                 9         \n",
            "=================================================================\n",
            "Total params: 33\n",
            "Trainable params: 33\n",
            "Non-trainable params: 0\n",
            "_________________________________________________________________\n",
            "None\n"
          ],
          "name": "stdout"
        }
      ]
    },
    {
      "cell_type": "code",
      "metadata": {
        "id": "T9C4E2hVoRdQ",
        "colab_type": "code",
        "outputId": "7c579435-9960-47e7-f7c7-35bb3c3e7a19",
        "colab": {
          "base_uri": "https://localhost:8080/",
          "height": 34
        }
      },
      "source": [
        "X = np.array([[0,0], [0,1], [1,0], [1,1]])\n",
        "y = np.array([[0], [0], [0], [1]])\n",
        "model.fit(X, y, batch_size=1, epochs=1000, verbose=0)"
      ],
      "execution_count": 9,
      "outputs": [
        {
          "output_type": "execute_result",
          "data": {
            "text/plain": [
              "<tensorflow.python.keras.callbacks.History at 0x7fb25888b8d0>"
            ]
          },
          "metadata": {
            "tags": []
          },
          "execution_count": 9
        }
      ]
    },
    {
      "cell_type": "code",
      "metadata": {
        "id": "8MYnFAxvoTPo",
        "colab_type": "code",
        "outputId": "ccf9c123-c23f-4489-a2d3-4cb3d9876e42",
        "colab": {
          "base_uri": "https://localhost:8080/",
          "height": 357
        }
      },
      "source": [
        "print(\"Network test:\")\n",
        "print(\"AND(0,0):\", model.predict_proba(np.array([[0, 0]])))\n",
        "print(\"AND(0,1):\", model.predict_proba(np.array([[0, 1]])))\n",
        "print(\"AND(1,0):\", model.predict_proba(np.array([[1, 0]])))\n",
        "print(\"AND(1,1):\", model.predict_proba(np.array([[1, 1]])))\n",
        "\n",
        "## Parameters layer 1\n",
        "W1 = model.get_weights()[0]\n",
        "b1 = model.get_weights()[1]\n",
        "## Parameters layer 2\n",
        "W2 = model.get_weights()[2]\n",
        "b2 = model.get_weights()[3]\n",
        "\n",
        "print(\"W1:\", W1)\n",
        "print(\"b1:\", b1)\n",
        "print(\"W2:\", W2)\n",
        "print(\"b2:\", b2)"
      ],
      "execution_count": 10,
      "outputs": [
        {
          "output_type": "stream",
          "text": [
            "Network test:\n",
            "AND(0,0): [[0.00065313]]\n",
            "AND(0,1): [[0.05196309]]\n",
            "AND(1,0): [[0.04586175]]\n",
            "AND(1,1): [[0.9273576]]\n",
            "W1: [[-0.7462753  -0.70952946  0.9225794   0.9484639  -0.15574272 -0.01162595\n",
            "   0.08361299 -1.4474999 ]\n",
            " [-0.4393206  -0.767609    0.7460996   0.42921948 -0.4143547   1.2121539\n",
            "   0.9256706  -1.4704587 ]]\n",
            "b1: [ 0.78104264 -1.5056425  -1.1869135  -0.90633476  0.5731217  -0.51578885\n",
            " -0.5063145  -1.479354  ]\n",
            "W2: [[-2.5371044 ]\n",
            " [ 0.37172633]\n",
            " [ 2.0765607 ]\n",
            " [ 1.9042983 ]\n",
            " [-0.720074  ]\n",
            " [ 1.0025712 ]\n",
            " [ 1.0926139 ]\n",
            " [ 0.3802872 ]]\n",
            "b2: [-0.544579]\n"
          ],
          "name": "stdout"
        }
      ]
    }
  ]
}